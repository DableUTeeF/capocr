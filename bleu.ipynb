{
 "cells": [
  {
   "cell_type": "code",
   "execution_count": 35,
   "metadata": {
    "ExecuteTime": {
     "end_time": "2023-09-26T03:10:44.049169100Z",
     "start_time": "2023-09-26T03:10:44.034528800Z"
    },
    "collapsed": false
   },
   "outputs": [],
   "source": [
    "import sacrebleu\n",
    "import json\n",
    "from transformers import AutoTokenizer\n",
    "import evaluate"
   ]
  },
  {
   "cell_type": "code",
   "execution_count": 36,
   "metadata": {},
   "outputs": [
    {
     "data": {
      "application/vnd.jupyter.widget-view+json": {
       "model_id": "53bc9f5b34f74df19f22ea78685fcfbe",
       "version_major": 2,
       "version_minor": 0
      },
      "text/plain": [
       "Downloading builder script:   0%|          | 0.00/8.15k [00:00<?, ?B/s]"
      ]
     },
     "metadata": {},
     "output_type": "display_data"
    }
   ],
   "source": [
    "sb = evaluate.load('sacrebleu')"
   ]
  },
  {
   "cell_type": "code",
   "execution_count": 12,
   "metadata": {},
   "outputs": [],
   "source": [
    "tokenizer = AutoTokenizer.from_pretrained('airesearch/wangchanberta-base-att-spm-uncased')"
   ]
  },
  {
   "cell_type": "code",
   "execution_count": 2,
   "metadata": {
    "ExecuteTime": {
     "end_time": "2023-09-26T03:13:12.880044500Z",
     "start_time": "2023-09-26T03:13:12.071835600Z"
    },
    "collapsed": false
   },
   "outputs": [],
   "source": [
    "data = json.load(open('/mnt/c/Users/Admin/Downloads/work/coco/caption_human_thai_train2017.json'))"
   ]
  },
  {
   "cell_type": "code",
   "execution_count": 3,
   "metadata": {
    "ExecuteTime": {
     "end_time": "2023-09-26T03:18:10.556603700Z",
     "start_time": "2023-09-26T03:18:10.553604500Z"
    },
    "collapsed": false
   },
   "outputs": [
    {
     "data": {
      "text/plain": [
       "dict_keys(['info', 'licenses', 'images', 'annotations'])"
      ]
     },
     "execution_count": 3,
     "metadata": {},
     "output_type": "execute_result"
    }
   ],
   "source": [
    "data.keys()"
   ]
  },
  {
   "cell_type": "code",
   "execution_count": 47,
   "metadata": {},
   "outputs": [
    {
     "data": {
      "text/plain": [
       "dict_keys(['info', 'licenses', 'images', 'annotations'])"
      ]
     },
     "execution_count": 47,
     "metadata": {},
     "output_type": "execute_result"
    }
   ],
   "source": [
    "d2 = json.load(open('/mnt/c/Users/Admin/Downloads/work/coco/caption_human_thai_val2017.json'))\n",
    "d2.keys()"
   ]
  },
  {
   "cell_type": "code",
   "execution_count": 57,
   "metadata": {},
   "outputs": [
    {
     "data": {
      "text/plain": [
       "dict_keys(['image_id', 'caption_thai'])"
      ]
     },
     "execution_count": 57,
     "metadata": {},
     "output_type": "execute_result"
    }
   ],
   "source": [
    "data['annotations'].keys()"
   ]
  },
  {
   "attachments": {},
   "cell_type": "markdown",
   "metadata": {},
   "source": [
    "# Train: Human -> Human"
   ]
  },
  {
   "cell_type": "code",
   "execution_count": 99,
   "metadata": {},
   "outputs": [],
   "source": [
    "captions = {}\n",
    "for id, caption in zip(data['annotations']['image_id'], data['annotations']['caption_thai']):\n",
    "    if id not in captions:\n",
    "        captions[id] = []\n",
    "    captions[id].append(caption)"
   ]
  },
  {
   "cell_type": "code",
   "execution_count": 100,
   "metadata": {},
   "outputs": [
    {
     "name": "stdout",
     "output_type": "stream",
     "text": [
      "['จานสีขาวจานนึงขบวนการนั้นมี โดนัทสอดไส้ทูน่าอยู่ในจาน', 'ภาพของเบอร์เกอร์โดนัทที่หั่นครึ่งชิ้นอยู่ในจานบนโต๊ะ', 'ขนมปังที่เป็นโดนัตวางอยู่บนจานสีขาวที่อยู่บนโต๊ะไม้']\n",
      "['มี แม่ คนหนึ่ง สวมเสื้อ แขนยาว ที่กําลัง เล่นกับ ลูก อยู่ บล สวน ห ย่อม', ' สีน้ําตาล ตัวเล็ก กําลัง กินอาหาร อยู่บน จาน กระดาษ สีขาว ข้าง แก้ว น้ํา', ' ไป สัญญาณ จราจร 3 อัน ติด อยู่บน เสาไฟ สีดํา แสดง สัญญาณไฟ สีแดง']\n",
      "[['สาว คนนึง กําลัง พ า เด็ก มา นั่งเล่น อยู่ภายใน สนามหญ้า พร้อมกับ สุนัข', '', '', ''], [' นก น้อย ตัวหนึ่ง กําลัง จิก กิน เศษ อาหารที่ วาง ทิ้งไว้ บนโต๊ะ', ' บนโต๊ะ อาหาร  นก น้อย ตัวหนึ่ง กําลัง ก้มหน้า กินอะไร บางอย่าง', '', ''], [' สัญญาณไฟ จราจร ที่ถูก ติดตั้ง อยู่กับ เสาไฟ อยู่ริมถนน', ' สัญญาณไฟ จราจร ที่ได้ ติด อยู่บน เสา ต้น หนึ่งที่ ได้ ตั้งอยู่ใน ริมถนน', '', '']]\n"
     ]
    }
   ],
   "source": [
    "print(list(captions.values())[3])\n",
    "k = 4\n",
    "gt = []\n",
    "pd = []\n",
    "for caps in captions.values():\n",
    "    if len(caps) < 2:\n",
    "        continue\n",
    "    pd.append(' '.join([tokenizer.decode(x) for x in tokenizer(caps.pop(0))['input_ids'][1:-1]]).replace('  ', ' '))\n",
    "    labs = []\n",
    "    tks = tokenizer(caps)['input_ids']\n",
    "    for tk in tks:\n",
    "        labs.append(' '.join([tokenizer.decode(x) for x in tk[1:-1]]).replace(' ', ' '))\n",
    "    if len(labs) < k:\n",
    "        for i in range(k-len(labs)):\n",
    "            labs.append('')\n",
    "    gt.append(labs[:k])\n",
    "print(pd[:3])\n",
    "print(gt[:3])"
   ]
  },
  {
   "cell_type": "code",
   "execution_count": 101,
   "metadata": {
    "collapsed": false
   },
   "outputs": [
    {
     "data": {
      "text/plain": [
       "BLEU = 16.43 59.2/46.7/19.5/1.4 (BP = 1.000 ratio = 1.361 hyp_len = 49 ref_len = 36)"
      ]
     },
     "execution_count": 101,
     "metadata": {},
     "output_type": "execute_result"
    }
   ],
   "source": [
    "sacrebleu.corpus_bleu(\n",
    "    hypotheses = pd,\n",
    "    references = gt\n",
    ")"
   ]
  },
  {
   "cell_type": "code",
   "execution_count": 102,
   "metadata": {},
   "outputs": [
    {
     "name": "stdout",
     "output_type": "stream",
     "text": [
      "{'score': 5.575309916166869, 'counts': [335425, 94052, 29020, 9256], 'totals': [1095840, 1013361, 930882, 848403], 'precisions': [30.608939261206014, 9.281193967401547, 3.1174735358509458, 1.0909909559490008], 'bp': 1.0, 'sys_len': 1095840, 'ref_len': 987326}\n"
     ]
    }
   ],
   "source": [
    "print(sb.compute(predictions=pd, references=gt))"
   ]
  },
  {
   "cell_type": "code",
   "execution_count": 62,
   "metadata": {},
   "outputs": [
    {
     "data": {
      "text/plain": [
       "{2}"
      ]
     },
     "execution_count": 62,
     "metadata": {},
     "output_type": "execute_result"
    }
   ],
   "source": [
    "gg = set()\n",
    "for g in gt:\n",
    "    gg.add(len(g))\n",
    "gg"
   ]
  },
  {
   "attachments": {},
   "cell_type": "markdown",
   "metadata": {},
   "source": [
    "# val: Model -> Human"
   ]
  },
  {
   "cell_type": "code",
   "execution_count": 72,
   "metadata": {},
   "outputs": [],
   "source": [
    "d3 = json.load(open('/mnt/c/Users/Admin/Downloads/capgen_api-main/preds.json'))\n",
    "labels = {}\n",
    "predicts = {}\n",
    "ids = []\n",
    "for d in d2['annotations']:\n",
    "    idx = d['image_id']\n",
    "    if idx not in ids:\n",
    "        predicts[idx] = d3[len(ids)]\n",
    "        ids.append(idx)\n",
    "    if idx not in labels:\n",
    "        labels[idx] = []\n",
    "    labels[idx].append(d['caption_thai'])\n"
   ]
  },
  {
   "cell_type": "code",
   "execution_count": 106,
   "metadata": {},
   "outputs": [
    {
     "name": "stdout",
     "output_type": "stream",
     "text": [
      "['ผู้ชาย สวมเสื้อ แขนยาว สีดํา สวม กางเกง สีน้ําเงิน กําลัง ยืน อยู่บน สกี หิมะ', ' แมว สีดํา น้ําตาล 2 ตัว กําลัง ยืน อยู่ข้าง จาน อาหาร สีขาว ใส่ สุนัข สีน้ําตาล ดํา และ สุนัข', ' สนาม เบสบอล มีนัก เบสบอล กําลัง แข่งขันกัน อยู่ และมี ผู้ชม กําลัง ดู อยู่']\n",
      "[['คน สวมเสื้อ แขนยาว สีดํา สวม ก างเกงขายาว สีน้ําเงิน กําลัง ยืน อยู่บน สกี หิมะ', 'ผู้ชาย สองคน ที่กําลัง เดิน อยู่ บนภูเขา หิมะ ของ ลาน สกี หิมะ', ' บน เทือกเขา สูง ที่มี หิมะ ปกคลุม สีขาว หนา  มีนัก เล่น สกี สองคน อยู่ ตรงนั้น', ''], [' หมา ตัว สีดํา น้ําตาล กําลัง มอง มา ที่ แมว ตัว สีเทา นั่งอยู่ บนโต๊ะ', ' แมว ตัว สีเทา ที่ นั่งอยู่ บนโต๊ะ มาแล้ว มี สุนัข ตัว สีดํา อยู่ นอกบ้าน', ' แมว สีเทา  1  ตัว นั่ง อยู่ข้างๆ กระถาง ต้นไม้ บนโต๊ะ  ด้านหลัง มี สุนัข  1  ตัว ยืนอยู่ ด้านนอก บ้าน', ''], ['ผู้ชาย ใส่เสื้อ สีขาว กําลัง ตั้ง ท่า ตี ลูก เบสบอล อยู่ใน สนาม', ' นักกีฬา เบสบอล ที่ทําการ แข่งขันกีฬ า อยู่ใน สนาม มี สนามหญ้า อยู่ บริเวณรอบ รอบ', ' ด้านหน้า มีคน หลายคน มี ผู้ชาย ยืน เล่น เบสบอล อยู่ใน สนาม  ด้านหลัง มีคน นั่ง อยู่บน อั ฒ จันทร์ หลายคน', '']]\n"
     ]
    }
   ],
   "source": [
    "k = 4\n",
    "gt = []\n",
    "pd = []\n",
    "for key in labels:\n",
    "    caps = labels[key]\n",
    "    if len(caps) < 2:\n",
    "        continue\n",
    "    pd.append(\n",
    "        ' '.join([tokenizer.decode(x) for x in tokenizer(predicts[key])['input_ids'][1:-1]]).replace('  ', ' ')\n",
    "    )\n",
    "    labs = []\n",
    "    tks = tokenizer(caps)['input_ids']\n",
    "    for tk in tks:\n",
    "        labs.append(\n",
    "            ' '.join([tokenizer.decode(x) for x in tk[1:-1]]).replace(' ', ' ')\n",
    "        )\n",
    "    if len(labs) < k:\n",
    "        for i in range(k-len(labs)):\n",
    "            labs.append('')\n",
    "    gt.append(labs[:k])\n",
    "print(pd[:3])\n",
    "print(gt[:3])"
   ]
  },
  {
   "cell_type": "code",
   "execution_count": 107,
   "metadata": {},
   "outputs": [
    {
     "data": {
      "text/plain": [
       "BLEU = 34.52 76.9/54.2/27.3/12.5 (BP = 1.000 ratio = 1.268 hyp_len = 52 ref_len = 41)"
      ]
     },
     "execution_count": 107,
     "metadata": {},
     "output_type": "execute_result"
    }
   ],
   "source": [
    "sacrebleu.corpus_bleu(\n",
    "    hypotheses = pd,\n",
    "    references = gt\n",
    ")"
   ]
  },
  {
   "cell_type": "code",
   "execution_count": 108,
   "metadata": {},
   "outputs": [
    {
     "name": "stdout",
     "output_type": "stream",
     "text": [
      "{'score': 12.022351202904273, 'counts': [19168, 6810, 2582, 998], 'totals': [40910, 37519, 34128, 30737], 'precisions': [46.854069909557566, 18.15080359284629, 7.565635255508673, 3.246901128932557], 'bp': 1.0, 'sys_len': 40910, 'ref_len': 39994}\n"
     ]
    }
   ],
   "source": [
    "print(sb.compute(predictions=pd, references=gt))"
   ]
  },
  {
   "attachments": {},
   "cell_type": "markdown",
   "metadata": {},
   "source": [
    "# val: Human -> Human"
   ]
  },
  {
   "cell_type": "code",
   "execution_count": 112,
   "metadata": {},
   "outputs": [],
   "source": [
    "d3 = json.load(open('/mnt/c/Users/Admin/Downloads/capgen_api-main/preds.json'))\n",
    "labels = {}\n",
    "predicts = {}\n",
    "ids = []\n",
    "for d in d2['annotations']:\n",
    "    idx = d['image_id']\n",
    "    if idx not in ids:\n",
    "        predicts[idx] = d3[len(ids)]\n",
    "        ids.append(idx)\n",
    "    if idx not in labels:\n",
    "        labels[idx] = []\n",
    "    labels[idx].append(d['caption_thai'])"
   ]
  },
  {
   "cell_type": "code",
   "execution_count": 113,
   "metadata": {},
   "outputs": [
    {
     "name": "stdout",
     "output_type": "stream",
     "text": [
      "['คนสวมเสื้อลายสก๊อตสีฟ้าส่งกางเกงยีนส์ขายาวนั่งทำว่าวบนพื้นกระเบื้อง']\n",
      "['คน สวมเสื้อ แขนยาว สีดํา สวม ก างเกงขายาว สีน้ําเงิน กําลัง ยืน อยู่บน สกี หิมะ', ' หมา ตัว สีดํา น้ําตาล กําลัง มอง มา ที่ แมว ตัว สีเทา นั่งอยู่ บนโต๊ะ', 'ผู้ชาย ใส่เสื้อ สีขาว กําลัง ตั้ง ท่า ตี ลูก เบสบอล อยู่ใน สนาม']\n",
      "[['ผู้ชาย สองคน ที่กําลัง เดิน อยู่ บนภูเขา หิมะ ของ ลาน สกี หิมะ', ' บน เทือกเขา สูง ที่มี หิมะ ปกคลุม สีขาว หนา  มีนัก เล่น สกี สองคน อยู่ ตรงนั้น'], [' แมว ตัว สีเทา ที่ นั่งอยู่ บนโต๊ะ มาแล้ว มี สุนัข ตัว สีดํา อยู่ นอกบ้าน', ' แมว สีเทา  1  ตัว นั่ง อยู่ข้างๆ กระถาง ต้นไม้ บนโต๊ะ  ด้านหลัง มี สุนัข  1  ตัว ยืนอยู่ ด้านนอก บ้าน'], [' นักกีฬา เบสบอล ที่ทําการ แข่งขันกีฬ า อยู่ใน สนาม มี สนามหญ้า อยู่ บริเวณรอบ รอบ', ' ด้านหน้า มีคน หลายคน มี ผู้ชาย ยืน เล่น เบสบอล อยู่ใน สนาม  ด้านหลัง มีคน นั่ง อยู่บน อั ฒ จันทร์ หลายคน']]\n"
     ]
    }
   ],
   "source": [
    "print(list(labels.values())[3])\n",
    "k = 2\n",
    "gt = []\n",
    "pd = []\n",
    "for caps in labels.values():\n",
    "    if len(caps) < 2:\n",
    "        continue\n",
    "    pd.append(' '.join([tokenizer.decode(x) for x in tokenizer(caps.pop(0))['input_ids'][1:-1]]).replace('  ', ' '))\n",
    "    labs = []\n",
    "    tks = tokenizer(caps)['input_ids']\n",
    "    for tk in tks:\n",
    "        labs.append(' '.join([tokenizer.decode(x) for x in tk[1:-1]]).replace(' ', ' '))\n",
    "    if len(labs) < k:\n",
    "        for i in range(k-len(labs)):\n",
    "            labs.append('')\n",
    "    gt.append(labs[:k])\n",
    "print(pd[:3])\n",
    "print(gt[:3])"
   ]
  },
  {
   "cell_type": "code",
   "execution_count": 114,
   "metadata": {},
   "outputs": [
    {
     "data": {
      "text/plain": [
       "BLEU = 23.46 100.0/66.7/18.2/2.5 (BP = 1.000 ratio = 1.000 hyp_len = 26 ref_len = 26)"
      ]
     },
     "execution_count": 114,
     "metadata": {},
     "output_type": "execute_result"
    }
   ],
   "source": [
    "sacrebleu.corpus_bleu(\n",
    "    hypotheses = pd,\n",
    "    references = gt\n",
    ")"
   ]
  },
  {
   "cell_type": "code",
   "execution_count": 116,
   "metadata": {},
   "outputs": [
    {
     "name": "stdout",
     "output_type": "stream",
     "text": [
      "{'score': 7.016280146118383, 'counts': [14709, 4469, 1416, 439], 'totals': [41321, 37930, 34539, 31148], 'precisions': [35.59691198180102, 11.782230424466121, 4.099713367497611, 1.4094002825221523], 'bp': 1.0, 'sys_len': 41321, 'ref_len': 40900}\n"
     ]
    }
   ],
   "source": [
    "print(sb.compute(predictions=pd, references=gt))"
   ]
  },
  {
   "cell_type": "code",
   "execution_count": null,
   "metadata": {},
   "outputs": [],
   "source": [
    "a = 1"
   ]
  },
  {
   "attachments": {},
   "cell_type": "markdown",
   "metadata": {},
   "source": [
    "# val: MTL -> Human"
   ]
  },
  {
   "cell_type": "code",
   "execution_count": 117,
   "metadata": {},
   "outputs": [
    {
     "data": {
      "text/plain": [
       "dict_keys(['info', 'licenses', 'images', 'annotations'])"
      ]
     },
     "execution_count": 117,
     "metadata": {},
     "output_type": "execute_result"
    }
   ],
   "source": [
    "d4 = json.load(open('/mnt/c/Users/Admin/Downloads/work/coco/caption_thai_val2017.json'))\n",
    "d4.keys()"
   ]
  },
  {
   "cell_type": "code",
   "execution_count": 119,
   "metadata": {},
   "outputs": [
    {
     "data": {
      "text/plain": [
       "{'image_id': 179765,\n",
       " 'id': 38,\n",
       " 'caption': 'A black Honda motorcycle parked in front of a garage.',\n",
       " 'caption_thai': 'รถจักรยานยนต์ฮอนด้าสีดำจอดอยู่หน้าโรงรถ'}"
      ]
     },
     "execution_count": 119,
     "metadata": {},
     "output_type": "execute_result"
    }
   ],
   "source": [
    "d4['annotations'][0]"
   ]
  },
  {
   "cell_type": "code",
   "execution_count": 122,
   "metadata": {},
   "outputs": [],
   "source": [
    "labels = {}\n",
    "predicts = {}\n",
    "ids = []\n",
    "for d in d2['annotations']:\n",
    "    idx = d['image_id']\n",
    "    if idx not in labels:\n",
    "        labels[idx] = []\n",
    "    labels[idx].append(d['caption_thai'])\n",
    "for d in d4['annotations']:\n",
    "    idx = d['image_id']\n",
    "    if idx not in predicts:\n",
    "        predicts[idx] = []\n",
    "    predicts[idx].append(d['caption_thai'])\n"
   ]
  },
  {
   "cell_type": "code",
   "execution_count": 124,
   "metadata": {},
   "outputs": [
    {
     "data": {
      "text/plain": [
       "'205333'"
      ]
     },
     "execution_count": 124,
     "metadata": {},
     "output_type": "execute_result"
    }
   ],
   "source": [
    "list(labels.keys())[0]"
   ]
  },
  {
   "cell_type": "code",
   "execution_count": 125,
   "metadata": {},
   "outputs": [
    {
     "data": {
      "text/plain": [
       "179765"
      ]
     },
     "execution_count": 125,
     "metadata": {},
     "output_type": "execute_result"
    }
   ],
   "source": [
    "list(predicts.keys())[0]"
   ]
  },
  {
   "cell_type": "code",
   "execution_count": 130,
   "metadata": {},
   "outputs": [
    {
     "name": "stdout",
     "output_type": "stream",
     "text": [
      "['นัก สกี คู่ หนึ่ง อยู่ ด้านบน ของ สกี ที่มี เมฆ และ ภูเขา ขนาดใหญ่ อยู่ ด้านหลัง', ' แมว นั่งอยู่ บนโต๊ะ พร้อม สุนัข ข้างนอก', ' ชายคนหนึ่ง ขว้าง เบสบอล จาก กอง บน สนาม']\n",
      "[['คน สวมเสื้อ แขนยาว สีดํา สวม ก างเกงขายาว สีน้ําเงิน กําลัง ยืน อยู่บน สกี หิมะ', 'ผู้ชาย สองคน ที่กําลัง เดิน อยู่ บนภูเขา หิมะ ของ ลาน สกี หิมะ'], [' หมา ตัว สีดํา น้ําตาล กําลัง มอง มา ที่ แมว ตัว สีเทา นั่งอยู่ บนโต๊ะ', ' แมว ตัว สีเทา ที่ นั่งอยู่ บนโต๊ะ มาแล้ว มี สุนัข ตัว สีดํา อยู่ นอกบ้าน'], ['ผู้ชาย ใส่เสื้อ สีขาว กําลัง ตั้ง ท่า ตี ลูก เบสบอล อยู่ใน สนาม', ' นักกีฬา เบสบอล ที่ทําการ แข่งขันกีฬ า อยู่ใน สนาม มี สนามหญ้า อยู่ บริเวณรอบ รอบ']]\n"
     ]
    }
   ],
   "source": [
    "k = 2\n",
    "gt = []\n",
    "pd = []\n",
    "for key in labels:\n",
    "    caps = labels[key]\n",
    "    if len(caps) < 2:\n",
    "        continue\n",
    "    pd.append(\n",
    "        ' '.join([tokenizer.decode(x) for x in tokenizer(predicts[int(key)][0])['input_ids'][1:-1]]).replace('  ', ' ')\n",
    "    )\n",
    "    labs = []\n",
    "    tks = tokenizer(caps)['input_ids']\n",
    "    for tk in tks:\n",
    "        labs.append(\n",
    "            ' '.join([tokenizer.decode(x) for x in tk[1:-1]]).replace(' ', ' ')\n",
    "        )\n",
    "    if len(labs) < k:\n",
    "        for i in range(k-len(labs)):\n",
    "            labs.append('')\n",
    "    gt.append(labs[:k])\n",
    "print(pd[:3])\n",
    "print(gt[:3])"
   ]
  },
  {
   "cell_type": "code",
   "execution_count": 131,
   "metadata": {},
   "outputs": [
    {
     "data": {
      "text/plain": [
       "BLEU = 11.05 100.0/36.8/2.9/1.7 (BP = 0.953 ratio = 0.955 hyp_len = 21 ref_len = 22)"
      ]
     },
     "execution_count": 131,
     "metadata": {},
     "output_type": "execute_result"
    }
   ],
   "source": [
    "sacrebleu.corpus_bleu(\n",
    "    hypotheses = pd,\n",
    "    references = gt\n",
    ")"
   ]
  },
  {
   "cell_type": "code",
   "execution_count": 132,
   "metadata": {},
   "outputs": [
    {
     "name": "stdout",
     "output_type": "stream",
     "text": [
      "{'score': 2.853767518743874, 'counts': [9488, 1979, 400, 77], 'totals': [26930, 23539, 20148, 16757], 'precisions': [35.23208317861121, 8.407324015463699, 1.9853087155052611, 0.45950945873366356], 'bp': 0.703864298497585, 'sys_len': 26930, 'ref_len': 36387}\n"
     ]
    }
   ],
   "source": [
    "print(sb.compute(predictions=pd, references=gt))"
   ]
  }
 ],
 "metadata": {
  "kernelspec": {
   "display_name": "caption",
   "language": "python",
   "name": "python3"
  },
  "language_info": {
   "codemirror_mode": {
    "name": "ipython",
    "version": 3
   },
   "file_extension": ".py",
   "mimetype": "text/x-python",
   "name": "python",
   "nbconvert_exporter": "python",
   "pygments_lexer": "ipython3",
   "version": "3.8.16"
  },
  "vscode": {
   "interpreter": {
    "hash": "d0557c582b3fc8a6d1af0a808c55663a1814553745bd196f1788104f2c26fa91"
   }
  }
 },
 "nbformat": 4,
 "nbformat_minor": 0
}
